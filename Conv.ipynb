{
 "cells": [
  {
   "cell_type": "code",
   "execution_count": 2,
   "metadata": {},
   "outputs": [],
   "source": [
    "import tensorflow as tf\n",
    "from tensorflow import keras\n",
    "from tensorflow.keras.utils import to_categorical\n",
    "from tensorflow.keras.models import Sequential\n",
    "from tensorflow.keras.layers import Dense\n",
    "from tensorflow.keras.layers import Flatten\n",
    "from tensorflow.keras.layers import Conv2D,MaxPool2D,Dropout\n",
    "import numpy as np\n",
    "import logging\n",
    "tf.get_logger().setLevel(logging.ERROR)"
   ]
  },
  {
   "cell_type": "code",
   "execution_count": 3,
   "metadata": {},
   "outputs": [],
   "source": [
    "## Dataset Load\n",
    "## x,y split / test, train split\n",
    "cifar_dataset = keras.datasets.cifar10\n",
    "(train_x,train_y),(test_x,test_y) = cifar_dataset.load_data()"
   ]
  },
  {
   "cell_type": "code",
   "execution_count": 4,
   "metadata": {},
   "outputs": [],
   "source": [
    "## Preprocess\n",
    "# One Hot encoded output\n",
    "train_y = to_categorical(train_y,num_classes=10)\n",
    "test_y = to_categorical(test_y,num_classes=10)"
   ]
  },
  {
   "cell_type": "code",
   "execution_count": 5,
   "metadata": {},
   "outputs": [],
   "source": [
    "## Standardise\n",
    "# Mean = 0\n",
    "# Var = 1\n",
    "mean = np.mean(train_x)\n",
    "stdDev = np.std(train_x)\n",
    "train_x = (train_x - mean) / stdDev\n",
    "test_x = (test_x - mean) / stdDev"
   ]
  },
  {
   "cell_type": "code",
   "execution_count": 6,
   "metadata": {},
   "outputs": [],
   "source": [
    "## Model\n",
    "model = Sequential()\n",
    "model.add(Conv2D(64,\n",
    "                 (4,4),\n",
    "                 strides=(1,1),\n",
    "                 activation='relu',\n",
    "                 padding='same',\n",
    "                 input_shape=(32,32,3),\n",
    "                 kernel_initializer='he_normal',\n",
    "                 bias_initializer='zeros'\n",
    "                 ))\n",
    "\n",
    "model.add(Dropout(0.2))\n",
    "\n",
    "model.add(Conv2D(64,\n",
    "                 (2,2),\n",
    "                 strides=(2,2),\n",
    "                 activation='relu',\n",
    "                 padding='same',\n",
    "                 kernel_initializer='he_normal',\n",
    "                 bias_initializer='zeros'\n",
    "                 ))\n",
    "\n",
    "model.add(Dropout(0.2))\n",
    "\n",
    "model.add(Conv2D(32,\n",
    "                 (3,3),\n",
    "                 strides=(1,1),\n",
    "                 activation='relu',\n",
    "                 padding='same',\n",
    "                 kernel_initializer='he_normal',\n",
    "                 bias_initializer='zeros'\n",
    "                 ))\n",
    "\n",
    "model.add(Dropout(0.2))\n",
    "\n",
    "model.add(Conv2D(32,\n",
    "                 (3,3),\n",
    "                 strides=(1,1),\n",
    "                 activation='relu',\n",
    "                 padding='same',\n",
    "                 kernel_initializer='he_normal',\n",
    "                 bias_initializer='zeros'\n",
    "                 ))\n",
    "\n",
    "model.add(MaxPool2D(pool_size=(2,2),\n",
    "                    strides=2,\n",
    "                    padding='same'\n",
    "))\n",
    "model.add(Dropout(0.2))\n",
    "\n",
    "model.add(Flatten())\n",
    "\n",
    "model.add(Dense(64,\n",
    "                activation='relu',\n",
    "                kernel_initializer='glorot_uniform',\n",
    "                bias_initializer='zeros'\n",
    "                ))\n",
    "\n",
    "model.add(Dropout(0.2))\n",
    "\n",
    "model.add(Dense(64,\n",
    "                activation='relu',\n",
    "                kernel_initializer='glorot_uniform',\n",
    "                bias_initializer='zeros'\n",
    "                ))\n",
    "\n",
    "model.add(Dropout(0.2))\n",
    "\n",
    "model.add(Dense(10,\n",
    "                activation='softmax',\n",
    "                kernel_initializer='glorot_uniform',\n",
    "                bias_initializer='zeros'\n",
    "                ))"
   ]
  },
  {
   "cell_type": "code",
   "execution_count": 7,
   "metadata": {},
   "outputs": [],
   "source": [
    "## Compile\n",
    "model.compile(loss='categorical_crossentropy',\n",
    "              optimizer='adam',\n",
    "              metrics=['accuracy']\n",
    "              )"
   ]
  },
  {
   "cell_type": "code",
   "execution_count": 8,
   "metadata": {},
   "outputs": [
    {
     "name": "stdout",
     "output_type": "stream",
     "text": [
      "Model: \"sequential\"\n",
      "_________________________________________________________________\n",
      "Layer (type)                 Output Shape              Param #   \n",
      "=================================================================\n",
      "conv2d (Conv2D)              (None, 32, 32, 64)        3136      \n",
      "_________________________________________________________________\n",
      "dropout (Dropout)            (None, 32, 32, 64)        0         \n",
      "_________________________________________________________________\n",
      "conv2d_1 (Conv2D)            (None, 16, 16, 64)        16448     \n",
      "_________________________________________________________________\n",
      "dropout_1 (Dropout)          (None, 16, 16, 64)        0         \n",
      "_________________________________________________________________\n",
      "conv2d_2 (Conv2D)            (None, 16, 16, 32)        18464     \n",
      "_________________________________________________________________\n",
      "dropout_2 (Dropout)          (None, 16, 16, 32)        0         \n",
      "_________________________________________________________________\n",
      "conv2d_3 (Conv2D)            (None, 16, 16, 32)        9248      \n",
      "_________________________________________________________________\n",
      "max_pooling2d (MaxPooling2D) (None, 8, 8, 32)          0         \n",
      "_________________________________________________________________\n",
      "dropout_3 (Dropout)          (None, 8, 8, 32)          0         \n",
      "_________________________________________________________________\n",
      "flatten (Flatten)            (None, 2048)              0         \n",
      "_________________________________________________________________\n",
      "dense (Dense)                (None, 64)                131136    \n",
      "_________________________________________________________________\n",
      "dropout_4 (Dropout)          (None, 64)                0         \n",
      "_________________________________________________________________\n",
      "dense_1 (Dense)              (None, 64)                4160      \n",
      "_________________________________________________________________\n",
      "dropout_5 (Dropout)          (None, 64)                0         \n",
      "_________________________________________________________________\n",
      "dense_2 (Dense)              (None, 10)                650       \n",
      "=================================================================\n",
      "Total params: 183,242\n",
      "Trainable params: 183,242\n",
      "Non-trainable params: 0\n",
      "_________________________________________________________________\n"
     ]
    }
   ],
   "source": [
    "model.summary()"
   ]
  },
  {
   "cell_type": "code",
   "execution_count": 9,
   "metadata": {},
   "outputs": [
    {
     "name": "stdout",
     "output_type": "stream",
     "text": [
      "500\n"
     ]
    }
   ],
   "source": [
    "EPOCHS = 70\n",
    "BATCH_SIZE = int(train_y.shape[0]/100)\n",
    "print(BATCH_SIZE)"
   ]
  },
  {
   "cell_type": "code",
   "execution_count": 12,
   "metadata": {},
   "outputs": [
    {
     "name": "stdout",
     "output_type": "stream",
     "text": [
      "Train on 50000 samples, validate on 10000 samples\n",
      "Epoch 1/70\n",
      "50000/50000 - 5s - loss: 0.4588 - acc: 0.8428 - val_loss: 0.5998 - val_acc: 0.7975\n",
      "Epoch 2/70\n",
      "50000/50000 - 5s - loss: 0.4456 - acc: 0.8482 - val_loss: 0.5893 - val_acc: 0.8052\n",
      "Epoch 3/70\n",
      "50000/50000 - 5s - loss: 0.4479 - acc: 0.8448 - val_loss: 0.6058 - val_acc: 0.7977\n",
      "Epoch 4/70\n",
      "50000/50000 - 5s - loss: 0.4423 - acc: 0.8476 - val_loss: 0.6028 - val_acc: 0.8008\n",
      "Epoch 5/70\n",
      "50000/50000 - 5s - loss: 0.4457 - acc: 0.8477 - val_loss: 0.5908 - val_acc: 0.8060\n",
      "Epoch 6/70\n",
      "50000/50000 - 5s - loss: 0.4455 - acc: 0.8484 - val_loss: 0.5937 - val_acc: 0.8033\n",
      "Epoch 7/70\n",
      "50000/50000 - 5s - loss: 0.4430 - acc: 0.8464 - val_loss: 0.5999 - val_acc: 0.7980\n",
      "Epoch 8/70\n",
      "50000/50000 - 5s - loss: 0.4459 - acc: 0.8470 - val_loss: 0.5967 - val_acc: 0.8004\n",
      "Epoch 9/70\n",
      "50000/50000 - 5s - loss: 0.4466 - acc: 0.8469 - val_loss: 0.5947 - val_acc: 0.7997\n",
      "Epoch 10/70\n",
      "50000/50000 - 5s - loss: 0.4416 - acc: 0.8479 - val_loss: 0.5883 - val_acc: 0.8026\n",
      "Epoch 11/70\n",
      "50000/50000 - 5s - loss: 0.4413 - acc: 0.8472 - val_loss: 0.5926 - val_acc: 0.8057\n",
      "Epoch 12/70\n",
      "50000/50000 - 5s - loss: 0.4345 - acc: 0.8502 - val_loss: 0.5873 - val_acc: 0.8087\n",
      "Epoch 13/70\n",
      "50000/50000 - 5s - loss: 0.4370 - acc: 0.8509 - val_loss: 0.5989 - val_acc: 0.8019\n",
      "Epoch 14/70\n",
      "50000/50000 - 5s - loss: 0.4384 - acc: 0.8483 - val_loss: 0.5903 - val_acc: 0.8063\n",
      "Epoch 15/70\n",
      "50000/50000 - 5s - loss: 0.4319 - acc: 0.8514 - val_loss: 0.6010 - val_acc: 0.8021\n",
      "Epoch 16/70\n",
      "50000/50000 - 5s - loss: 0.4352 - acc: 0.8509 - val_loss: 0.6032 - val_acc: 0.8011\n",
      "Epoch 17/70\n",
      "50000/50000 - 5s - loss: 0.4445 - acc: 0.8474 - val_loss: 0.5983 - val_acc: 0.7974\n",
      "Epoch 18/70\n",
      "50000/50000 - 5s - loss: 0.4365 - acc: 0.8514 - val_loss: 0.5958 - val_acc: 0.8040\n",
      "Epoch 19/70\n",
      "50000/50000 - 5s - loss: 0.4312 - acc: 0.8509 - val_loss: 0.5936 - val_acc: 0.8065\n",
      "Epoch 20/70\n",
      "50000/50000 - 5s - loss: 0.4360 - acc: 0.8506 - val_loss: 0.5873 - val_acc: 0.8043\n",
      "Epoch 21/70\n",
      "50000/50000 - 5s - loss: 0.4337 - acc: 0.8507 - val_loss: 0.5882 - val_acc: 0.8067\n",
      "Epoch 22/70\n",
      "50000/50000 - 5s - loss: 0.4314 - acc: 0.8518 - val_loss: 0.5944 - val_acc: 0.8037\n",
      "Epoch 23/70\n",
      "50000/50000 - 5s - loss: 0.4293 - acc: 0.8524 - val_loss: 0.5872 - val_acc: 0.8048\n",
      "Epoch 24/70\n",
      "50000/50000 - 5s - loss: 0.4265 - acc: 0.8528 - val_loss: 0.5871 - val_acc: 0.8068\n",
      "Epoch 25/70\n",
      "50000/50000 - 5s - loss: 0.4247 - acc: 0.8519 - val_loss: 0.5931 - val_acc: 0.8073\n",
      "Epoch 26/70\n",
      "50000/50000 - 5s - loss: 0.4338 - acc: 0.8509 - val_loss: 0.5896 - val_acc: 0.8056\n",
      "Epoch 27/70\n",
      "50000/50000 - 5s - loss: 0.4263 - acc: 0.8517 - val_loss: 0.6036 - val_acc: 0.8036\n",
      "Epoch 28/70\n",
      "50000/50000 - 5s - loss: 0.4265 - acc: 0.8541 - val_loss: 0.5916 - val_acc: 0.8061\n",
      "Epoch 29/70\n",
      "50000/50000 - 5s - loss: 0.4302 - acc: 0.8525 - val_loss: 0.5889 - val_acc: 0.8043\n",
      "Epoch 30/70\n",
      "50000/50000 - 5s - loss: 0.4319 - acc: 0.8523 - val_loss: 0.6014 - val_acc: 0.7985\n",
      "Epoch 31/70\n",
      "50000/50000 - 5s - loss: 0.4297 - acc: 0.8516 - val_loss: 0.5858 - val_acc: 0.8061\n",
      "Epoch 32/70\n",
      "50000/50000 - 5s - loss: 0.4272 - acc: 0.8535 - val_loss: 0.5880 - val_acc: 0.8054\n",
      "Epoch 33/70\n",
      "50000/50000 - 5s - loss: 0.4282 - acc: 0.8520 - val_loss: 0.5876 - val_acc: 0.8045\n",
      "Epoch 34/70\n",
      "50000/50000 - 5s - loss: 0.4247 - acc: 0.8538 - val_loss: 0.5936 - val_acc: 0.8038\n",
      "Epoch 35/70\n",
      "50000/50000 - 5s - loss: 0.4238 - acc: 0.8547 - val_loss: 0.5844 - val_acc: 0.8064\n",
      "Epoch 36/70\n",
      "50000/50000 - 5s - loss: 0.4245 - acc: 0.8546 - val_loss: 0.5922 - val_acc: 0.8023\n",
      "Epoch 37/70\n",
      "50000/50000 - 5s - loss: 0.4244 - acc: 0.8540 - val_loss: 0.5963 - val_acc: 0.8038\n",
      "Epoch 38/70\n",
      "50000/50000 - 5s - loss: 0.4228 - acc: 0.8553 - val_loss: 0.5934 - val_acc: 0.8019\n",
      "Epoch 39/70\n",
      "50000/50000 - 5s - loss: 0.4293 - acc: 0.8530 - val_loss: 0.5800 - val_acc: 0.8058\n",
      "Epoch 40/70\n"
     ]
    },
    {
     "ename": "KeyboardInterrupt",
     "evalue": "",
     "output_type": "error",
     "traceback": [
      "\u001b[1;31m---------------------------------------------------------------------------\u001b[0m",
      "\u001b[1;31mKeyboardInterrupt\u001b[0m                         Traceback (most recent call last)",
      "\u001b[1;32m~\\AppData\\Local\\Temp\\ipykernel_19264\\4279447965.py\u001b[0m in \u001b[0;36m<module>\u001b[1;34m\u001b[0m\n\u001b[0;32m      4\u001b[0m                     \u001b[0mbatch_size\u001b[0m\u001b[1;33m=\u001b[0m\u001b[0mBATCH_SIZE\u001b[0m\u001b[1;33m,\u001b[0m\u001b[1;33m\u001b[0m\u001b[1;33m\u001b[0m\u001b[0m\n\u001b[0;32m      5\u001b[0m                     \u001b[0mverbose\u001b[0m\u001b[1;33m=\u001b[0m\u001b[1;36m2\u001b[0m\u001b[1;33m,\u001b[0m\u001b[1;33m\u001b[0m\u001b[1;33m\u001b[0m\u001b[0m\n\u001b[1;32m----> 6\u001b[1;33m                     \u001b[0mshuffle\u001b[0m\u001b[1;33m=\u001b[0m\u001b[1;32mTrue\u001b[0m\u001b[1;33m\u001b[0m\u001b[1;33m\u001b[0m\u001b[0m\n\u001b[0m\u001b[0;32m      7\u001b[0m )\n",
      "\u001b[1;32m~\\AppData\\Roaming\\Python\\Python37\\site-packages\\tensorflow_core\\python\\keras\\engine\\training.py\u001b[0m in \u001b[0;36mfit\u001b[1;34m(self, x, y, batch_size, epochs, verbose, callbacks, validation_split, validation_data, shuffle, class_weight, sample_weight, initial_epoch, steps_per_epoch, validation_steps, validation_freq, max_queue_size, workers, use_multiprocessing, **kwargs)\u001b[0m\n\u001b[0;32m    725\u001b[0m         \u001b[0mmax_queue_size\u001b[0m\u001b[1;33m=\u001b[0m\u001b[0mmax_queue_size\u001b[0m\u001b[1;33m,\u001b[0m\u001b[1;33m\u001b[0m\u001b[1;33m\u001b[0m\u001b[0m\n\u001b[0;32m    726\u001b[0m         \u001b[0mworkers\u001b[0m\u001b[1;33m=\u001b[0m\u001b[0mworkers\u001b[0m\u001b[1;33m,\u001b[0m\u001b[1;33m\u001b[0m\u001b[1;33m\u001b[0m\u001b[0m\n\u001b[1;32m--> 727\u001b[1;33m         use_multiprocessing=use_multiprocessing)\n\u001b[0m\u001b[0;32m    728\u001b[0m \u001b[1;33m\u001b[0m\u001b[0m\n\u001b[0;32m    729\u001b[0m   def evaluate(self,\n",
      "\u001b[1;32m~\\AppData\\Roaming\\Python\\Python37\\site-packages\\tensorflow_core\\python\\keras\\engine\\training_arrays.py\u001b[0m in \u001b[0;36mfit\u001b[1;34m(self, model, x, y, batch_size, epochs, verbose, callbacks, validation_split, validation_data, shuffle, class_weight, sample_weight, initial_epoch, steps_per_epoch, validation_steps, validation_freq, **kwargs)\u001b[0m\n\u001b[0;32m    673\u001b[0m         \u001b[0mvalidation_steps\u001b[0m\u001b[1;33m=\u001b[0m\u001b[0mvalidation_steps\u001b[0m\u001b[1;33m,\u001b[0m\u001b[1;33m\u001b[0m\u001b[1;33m\u001b[0m\u001b[0m\n\u001b[0;32m    674\u001b[0m         \u001b[0mvalidation_freq\u001b[0m\u001b[1;33m=\u001b[0m\u001b[0mvalidation_freq\u001b[0m\u001b[1;33m,\u001b[0m\u001b[1;33m\u001b[0m\u001b[1;33m\u001b[0m\u001b[0m\n\u001b[1;32m--> 675\u001b[1;33m         steps_name='steps_per_epoch')\n\u001b[0m\u001b[0;32m    676\u001b[0m \u001b[1;33m\u001b[0m\u001b[0m\n\u001b[0;32m    677\u001b[0m   def evaluate(self,\n",
      "\u001b[1;32m~\\AppData\\Roaming\\Python\\Python37\\site-packages\\tensorflow_core\\python\\keras\\engine\\training_arrays.py\u001b[0m in \u001b[0;36mmodel_iteration\u001b[1;34m(model, inputs, targets, sample_weights, batch_size, epochs, verbose, callbacks, val_inputs, val_targets, val_sample_weights, shuffle, initial_epoch, steps_per_epoch, validation_steps, validation_freq, mode, validation_in_fit, prepared_feed_values_from_dataset, steps_name, **kwargs)\u001b[0m\n\u001b[0;32m    392\u001b[0m \u001b[1;33m\u001b[0m\u001b[0m\n\u001b[0;32m    393\u001b[0m         \u001b[1;31m# Get outputs.\u001b[0m\u001b[1;33m\u001b[0m\u001b[1;33m\u001b[0m\u001b[1;33m\u001b[0m\u001b[0m\n\u001b[1;32m--> 394\u001b[1;33m         \u001b[0mbatch_outs\u001b[0m \u001b[1;33m=\u001b[0m \u001b[0mf\u001b[0m\u001b[1;33m(\u001b[0m\u001b[0mins_batch\u001b[0m\u001b[1;33m)\u001b[0m\u001b[1;33m\u001b[0m\u001b[1;33m\u001b[0m\u001b[0m\n\u001b[0m\u001b[0;32m    395\u001b[0m         \u001b[1;32mif\u001b[0m \u001b[1;32mnot\u001b[0m \u001b[0misinstance\u001b[0m\u001b[1;33m(\u001b[0m\u001b[0mbatch_outs\u001b[0m\u001b[1;33m,\u001b[0m \u001b[0mlist\u001b[0m\u001b[1;33m)\u001b[0m\u001b[1;33m:\u001b[0m\u001b[1;33m\u001b[0m\u001b[1;33m\u001b[0m\u001b[0m\n\u001b[0;32m    396\u001b[0m           \u001b[0mbatch_outs\u001b[0m \u001b[1;33m=\u001b[0m \u001b[1;33m[\u001b[0m\u001b[0mbatch_outs\u001b[0m\u001b[1;33m]\u001b[0m\u001b[1;33m\u001b[0m\u001b[1;33m\u001b[0m\u001b[0m\n",
      "\u001b[1;32m~\\AppData\\Roaming\\Python\\Python37\\site-packages\\tensorflow_core\\python\\keras\\backend.py\u001b[0m in \u001b[0;36m__call__\u001b[1;34m(self, inputs)\u001b[0m\n\u001b[0;32m   3474\u001b[0m \u001b[1;33m\u001b[0m\u001b[0m\n\u001b[0;32m   3475\u001b[0m     fetched = self._callable_fn(*array_vals,\n\u001b[1;32m-> 3476\u001b[1;33m                                 run_metadata=self.run_metadata)\n\u001b[0m\u001b[0;32m   3477\u001b[0m     \u001b[0mself\u001b[0m\u001b[1;33m.\u001b[0m\u001b[0m_call_fetch_callbacks\u001b[0m\u001b[1;33m(\u001b[0m\u001b[0mfetched\u001b[0m\u001b[1;33m[\u001b[0m\u001b[1;33m-\u001b[0m\u001b[0mlen\u001b[0m\u001b[1;33m(\u001b[0m\u001b[0mself\u001b[0m\u001b[1;33m.\u001b[0m\u001b[0m_fetches\u001b[0m\u001b[1;33m)\u001b[0m\u001b[1;33m:\u001b[0m\u001b[1;33m]\u001b[0m\u001b[1;33m)\u001b[0m\u001b[1;33m\u001b[0m\u001b[1;33m\u001b[0m\u001b[0m\n\u001b[0;32m   3478\u001b[0m     output_structure = nest.pack_sequence_as(\n",
      "\u001b[1;32m~\\AppData\\Roaming\\Python\\Python37\\site-packages\\tensorflow_core\\python\\client\\session.py\u001b[0m in \u001b[0;36m__call__\u001b[1;34m(self, *args, **kwargs)\u001b[0m\n\u001b[0;32m   1470\u001b[0m         ret = tf_session.TF_SessionRunCallable(self._session._session,\n\u001b[0;32m   1471\u001b[0m                                                \u001b[0mself\u001b[0m\u001b[1;33m.\u001b[0m\u001b[0m_handle\u001b[0m\u001b[1;33m,\u001b[0m \u001b[0margs\u001b[0m\u001b[1;33m,\u001b[0m\u001b[1;33m\u001b[0m\u001b[1;33m\u001b[0m\u001b[0m\n\u001b[1;32m-> 1472\u001b[1;33m                                                run_metadata_ptr)\n\u001b[0m\u001b[0;32m   1473\u001b[0m         \u001b[1;32mif\u001b[0m \u001b[0mrun_metadata\u001b[0m\u001b[1;33m:\u001b[0m\u001b[1;33m\u001b[0m\u001b[1;33m\u001b[0m\u001b[0m\n\u001b[0;32m   1474\u001b[0m           \u001b[0mproto_data\u001b[0m \u001b[1;33m=\u001b[0m \u001b[0mtf_session\u001b[0m\u001b[1;33m.\u001b[0m\u001b[0mTF_GetBuffer\u001b[0m\u001b[1;33m(\u001b[0m\u001b[0mrun_metadata_ptr\u001b[0m\u001b[1;33m)\u001b[0m\u001b[1;33m\u001b[0m\u001b[1;33m\u001b[0m\u001b[0m\n",
      "\u001b[1;31mKeyboardInterrupt\u001b[0m: "
     ]
    }
   ],
   "source": [
    "history = model.fit(train_x,train_y,\n",
    "                    validation_data=(test_x,test_y),\n",
    "                    epochs=EPOCHS,\n",
    "                    batch_size=BATCH_SIZE,\n",
    "                    verbose=2,\n",
    "                    shuffle=True\n",
    ")"
   ]
  },
  {
   "cell_type": "code",
   "execution_count": null,
   "metadata": {},
   "outputs": [],
   "source": [
    "train"
   ]
  }
 ],
 "metadata": {
  "kernelspec": {
   "display_name": "tensor7",
   "language": "python",
   "name": "python3"
  },
  "language_info": {
   "codemirror_mode": {
    "name": "ipython",
    "version": 3
   },
   "file_extension": ".py",
   "mimetype": "text/x-python",
   "name": "python",
   "nbconvert_exporter": "python",
   "pygments_lexer": "ipython3",
   "version": "3.7.12"
  }
 },
 "nbformat": 4,
 "nbformat_minor": 2
}
